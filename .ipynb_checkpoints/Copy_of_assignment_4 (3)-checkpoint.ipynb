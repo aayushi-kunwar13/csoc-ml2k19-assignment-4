{
 "cells": [
  {
   "cell_type": "markdown",
   "metadata": {
    "colab_type": "text",
    "id": "Bh1Bihw1ox6S"
   },
   "source": [
    "**CSOC ML - Assignment 4**\n",
    "\n",
    "Welcome to CSOC ML (2019) - Assignment 4. In this assignment, you will make a model that recognises faces! We will also explore Dimensionality Reduction.\n",
    "\n",
    "In this assignment, we will use NumPy, Matplotlib, sklearn, and OpenCV (an image processing library). Instead of OpenCV, one could instead use other image processing libraries like skimage Pillow, scipy.ndimage etc. But for the sake of uniformity, you have to complete this assignment using OpenCV."
   ]
  },
  {
   "cell_type": "markdown",
   "metadata": {
    "colab_type": "text",
    "id": "g18nlt7UpFdm"
   },
   "source": [
    "# **IMPORTING LIBRARIES**"
   ]
  },
  {
   "cell_type": "code",
   "execution_count": 0,
   "metadata": {
    "colab": {},
    "colab_type": "code",
    "id": "WwwRk0jko2eJ"
   },
   "outputs": [],
   "source": [
    "import numpy as np\n",
    "import matplotlib\n",
    "import matplotlib.pyplot as plt\n",
    "import pandas as pd\n",
    "from sklearn import svm\n",
    "from sklearn import preprocessing\n",
    "import os\n",
    "import time\n",
    "import matplotlib\n",
    "from sklearn.decomposition import PCA\n",
    "from sklearn.linear_model import LogisticRegression\n",
    "from sklearn.model_selection import train_test_split\n",
    "from sklearn.metrics import classification_report\n",
    "from sklearn.metrics import f1_score\n",
    "from sklearn.metrics import accuracy_score\n",
    "from sklearn.preprocessing import normalize\n",
    "from sklearn.svm import LinearSVC\n",
    "import cv2\n",
    "from google.colab import drive\n",
    "from sklearn import datasets\n",
    "from numpy.linalg import eig\n",
    "import sklearn"
   ]
  },
  {
   "cell_type": "markdown",
   "metadata": {
    "colab_type": "text",
    "id": "vth7FRv3pgNV"
   },
   "source": [
    "#MOUNTING DRIVE\n",
    "\n",
    "This will act like your local storage. Once you save the data in the drive you can access it just like you access the data in the local storage."
   ]
  },
  {
   "cell_type": "code",
   "execution_count": 0,
   "metadata": {
    "colab": {
     "base_uri": "https://localhost:8080/",
     "height": 35
    },
    "colab_type": "code",
    "id": "x01XWBPnpMyy",
    "outputId": "717b41d5-c45a-4e80-e46e-019130769ced"
   },
   "outputs": [
    {
     "name": "stdout",
     "output_type": "stream",
     "text": [
      "Mounted at /content/gdrive\n"
     ]
    }
   ],
   "source": [
    "drive.mount('/content/gdrive', force_remount=True)"
   ]
  },
  {
   "cell_type": "code",
   "execution_count": 0,
   "metadata": {
    "colab": {
     "base_uri": "https://localhost:8080/",
     "height": 35
    },
    "colab_type": "code",
    "id": "KPZl61P0pVm3",
    "outputId": "298631ad-d82c-4dc8-fdb2-a3d7f586f775"
   },
   "outputs": [
    {
     "name": "stdout",
     "output_type": "stream",
     "text": [
      "/content/gdrive/My Drive\n"
     ]
    }
   ],
   "source": [
    "cd '/content/gdrive/My Drive/'"
   ]
  },
  {
   "cell_type": "markdown",
   "metadata": {
    "colab_type": "text",
    "id": "KAPQ1zlmp1W6"
   },
   "source": [
    "#PCA\n",
    "\n",
    "You have studied PCA(Principal Component Analysis) previous week. So this time you will implement \n",
    "your own PCA. That will give you more knowlegdge about how PCA works. Dimensionality Reduction plays an important role while dealing with large datasets so before moving to bigger stuff we are going to learn a little about PCA."
   ]
  },
  {
   "cell_type": "markdown",
   "metadata": {
    "colab_type": "text",
    "id": "8UxRIgKxp9_C"
   },
   "source": [
    "#LOADING THE DATASET\n",
    "\n",
    "We will we working on the iris dataset to see how PCA actually works."
   ]
  },
  {
   "cell_type": "code",
   "execution_count": 0,
   "metadata": {
    "colab": {
     "base_uri": "https://localhost:8080/",
     "height": 1000
    },
    "colab_type": "code",
    "id": "GD5xyCMLpYNy",
    "outputId": "ffb5532b-727c-46b6-dc40-d393907c2484"
   },
   "outputs": [
    {
     "name": "stdout",
     "output_type": "stream",
     "text": [
      "[[5.1 3.5 1.4 0.2]\n",
      " [4.9 3.  1.4 0.2]\n",
      " [4.7 3.2 1.3 0.2]\n",
      " [4.6 3.1 1.5 0.2]\n",
      " [5.  3.6 1.4 0.2]\n",
      " [5.4 3.9 1.7 0.4]\n",
      " [4.6 3.4 1.4 0.3]\n",
      " [5.  3.4 1.5 0.2]\n",
      " [4.4 2.9 1.4 0.2]\n",
      " [4.9 3.1 1.5 0.1]\n",
      " [5.4 3.7 1.5 0.2]\n",
      " [4.8 3.4 1.6 0.2]\n",
      " [4.8 3.  1.4 0.1]\n",
      " [4.3 3.  1.1 0.1]\n",
      " [5.8 4.  1.2 0.2]\n",
      " [5.7 4.4 1.5 0.4]\n",
      " [5.4 3.9 1.3 0.4]\n",
      " [5.1 3.5 1.4 0.3]\n",
      " [5.7 3.8 1.7 0.3]\n",
      " [5.1 3.8 1.5 0.3]\n",
      " [5.4 3.4 1.7 0.2]\n",
      " [5.1 3.7 1.5 0.4]\n",
      " [4.6 3.6 1.  0.2]\n",
      " [5.1 3.3 1.7 0.5]\n",
      " [4.8 3.4 1.9 0.2]\n",
      " [5.  3.  1.6 0.2]\n",
      " [5.  3.4 1.6 0.4]\n",
      " [5.2 3.5 1.5 0.2]\n",
      " [5.2 3.4 1.4 0.2]\n",
      " [4.7 3.2 1.6 0.2]\n",
      " [4.8 3.1 1.6 0.2]\n",
      " [5.4 3.4 1.5 0.4]\n",
      " [5.2 4.1 1.5 0.1]\n",
      " [5.5 4.2 1.4 0.2]\n",
      " [4.9 3.1 1.5 0.2]\n",
      " [5.  3.2 1.2 0.2]\n",
      " [5.5 3.5 1.3 0.2]\n",
      " [4.9 3.6 1.4 0.1]\n",
      " [4.4 3.  1.3 0.2]\n",
      " [5.1 3.4 1.5 0.2]\n",
      " [5.  3.5 1.3 0.3]\n",
      " [4.5 2.3 1.3 0.3]\n",
      " [4.4 3.2 1.3 0.2]\n",
      " [5.  3.5 1.6 0.6]\n",
      " [5.1 3.8 1.9 0.4]\n",
      " [4.8 3.  1.4 0.3]\n",
      " [5.1 3.8 1.6 0.2]\n",
      " [4.6 3.2 1.4 0.2]\n",
      " [5.3 3.7 1.5 0.2]\n",
      " [5.  3.3 1.4 0.2]\n",
      " [7.  3.2 4.7 1.4]\n",
      " [6.4 3.2 4.5 1.5]\n",
      " [6.9 3.1 4.9 1.5]\n",
      " [5.5 2.3 4.  1.3]\n",
      " [6.5 2.8 4.6 1.5]\n",
      " [5.7 2.8 4.5 1.3]\n",
      " [6.3 3.3 4.7 1.6]\n",
      " [4.9 2.4 3.3 1. ]\n",
      " [6.6 2.9 4.6 1.3]\n",
      " [5.2 2.7 3.9 1.4]\n",
      " [5.  2.  3.5 1. ]\n",
      " [5.9 3.  4.2 1.5]\n",
      " [6.  2.2 4.  1. ]\n",
      " [6.1 2.9 4.7 1.4]\n",
      " [5.6 2.9 3.6 1.3]\n",
      " [6.7 3.1 4.4 1.4]\n",
      " [5.6 3.  4.5 1.5]\n",
      " [5.8 2.7 4.1 1. ]\n",
      " [6.2 2.2 4.5 1.5]\n",
      " [5.6 2.5 3.9 1.1]\n",
      " [5.9 3.2 4.8 1.8]\n",
      " [6.1 2.8 4.  1.3]\n",
      " [6.3 2.5 4.9 1.5]\n",
      " [6.1 2.8 4.7 1.2]\n",
      " [6.4 2.9 4.3 1.3]\n",
      " [6.6 3.  4.4 1.4]\n",
      " [6.8 2.8 4.8 1.4]\n",
      " [6.7 3.  5.  1.7]\n",
      " [6.  2.9 4.5 1.5]\n",
      " [5.7 2.6 3.5 1. ]\n",
      " [5.5 2.4 3.8 1.1]\n",
      " [5.5 2.4 3.7 1. ]\n",
      " [5.8 2.7 3.9 1.2]\n",
      " [6.  2.7 5.1 1.6]\n",
      " [5.4 3.  4.5 1.5]\n",
      " [6.  3.4 4.5 1.6]\n",
      " [6.7 3.1 4.7 1.5]\n",
      " [6.3 2.3 4.4 1.3]\n",
      " [5.6 3.  4.1 1.3]\n",
      " [5.5 2.5 4.  1.3]\n",
      " [5.5 2.6 4.4 1.2]\n",
      " [6.1 3.  4.6 1.4]\n",
      " [5.8 2.6 4.  1.2]\n",
      " [5.  2.3 3.3 1. ]\n",
      " [5.6 2.7 4.2 1.3]\n",
      " [5.7 3.  4.2 1.2]\n",
      " [5.7 2.9 4.2 1.3]\n",
      " [6.2 2.9 4.3 1.3]\n",
      " [5.1 2.5 3.  1.1]\n",
      " [5.7 2.8 4.1 1.3]\n",
      " [6.3 3.3 6.  2.5]\n",
      " [5.8 2.7 5.1 1.9]\n",
      " [7.1 3.  5.9 2.1]\n",
      " [6.3 2.9 5.6 1.8]\n",
      " [6.5 3.  5.8 2.2]\n",
      " [7.6 3.  6.6 2.1]\n",
      " [4.9 2.5 4.5 1.7]\n",
      " [7.3 2.9 6.3 1.8]\n",
      " [6.7 2.5 5.8 1.8]\n",
      " [7.2 3.6 6.1 2.5]\n",
      " [6.5 3.2 5.1 2. ]\n",
      " [6.4 2.7 5.3 1.9]\n",
      " [6.8 3.  5.5 2.1]\n",
      " [5.7 2.5 5.  2. ]\n",
      " [5.8 2.8 5.1 2.4]\n",
      " [6.4 3.2 5.3 2.3]\n",
      " [6.5 3.  5.5 1.8]\n",
      " [7.7 3.8 6.7 2.2]\n",
      " [7.7 2.6 6.9 2.3]\n",
      " [6.  2.2 5.  1.5]\n",
      " [6.9 3.2 5.7 2.3]\n",
      " [5.6 2.8 4.9 2. ]\n",
      " [7.7 2.8 6.7 2. ]\n",
      " [6.3 2.7 4.9 1.8]\n",
      " [6.7 3.3 5.7 2.1]\n",
      " [7.2 3.2 6.  1.8]\n",
      " [6.2 2.8 4.8 1.8]\n",
      " [6.1 3.  4.9 1.8]\n",
      " [6.4 2.8 5.6 2.1]\n",
      " [7.2 3.  5.8 1.6]\n",
      " [7.4 2.8 6.1 1.9]\n",
      " [7.9 3.8 6.4 2. ]\n",
      " [6.4 2.8 5.6 2.2]\n",
      " [6.3 2.8 5.1 1.5]\n",
      " [6.1 2.6 5.6 1.4]\n",
      " [7.7 3.  6.1 2.3]\n",
      " [6.3 3.4 5.6 2.4]\n",
      " [6.4 3.1 5.5 1.8]\n",
      " [6.  3.  4.8 1.8]\n",
      " [6.9 3.1 5.4 2.1]\n",
      " [6.7 3.1 5.6 2.4]\n",
      " [6.9 3.1 5.1 2.3]\n",
      " [5.8 2.7 5.1 1.9]\n",
      " [6.8 3.2 5.9 2.3]\n",
      " [6.7 3.3 5.7 2.5]\n",
      " [6.7 3.  5.2 2.3]\n",
      " [6.3 2.5 5.  1.9]\n",
      " [6.5 3.  5.2 2. ]\n",
      " [6.2 3.4 5.4 2.3]\n",
      " [5.9 3.  5.1 1.8]]\n"
     ]
    }
   ],
   "source": [
    "# We are importing iris dataset from the sklearn library\n",
    "#This data sets consists of 3 different types of irises’ (Setosa, Versicolour, and Virginica) petal and sepal length, stored in a 150x4 numpy.ndarray\n",
    "#The rows being the samples and the columns being: Sepal Length, Sepal Width, Petal Length and Petal Width.\n",
    "iris = datasets.load_iris()\n",
    "X = iris.data #features\n",
    "y = iris.target #types\n",
    "print(X)"
   ]
  },
  {
   "cell_type": "markdown",
   "metadata": {
    "colab_type": "text",
    "id": "Nm9ejf-qqRYJ"
   },
   "source": [
    "#IMPLEMENTING PCA\n",
    "\n",
    "**The real stuff....**\n",
    "\n",
    "Now you are going to implement PCA. Just follow the steps in the comment section of the code. Read the code carefully. In case of any help you can refer to this link\n",
    "[https://machinelearningmastery.com/calculate-principal-component-analysis-scratch-python/](https://machinelearningmastery.com/calculate-principal-component-analysis-scratch-python/)\n",
    "\n"
   ]
  },
  {
   "cell_type": "code",
   "execution_count": 0,
   "metadata": {
    "colab": {
     "base_uri": "https://localhost:8080/",
     "height": 386
    },
    "colab_type": "code",
    "id": "YrX7thtOqQcK",
    "outputId": "a6fe7e14-3963-4389-9f0d-726ea50386bf"
   },
   "outputs": [
    {
     "name": "stdout",
     "output_type": "stream",
     "text": [
      "[5.84333333 3.05733333 3.758      1.19933333]\n",
      "Eigenvector 1: \n",
      "[[ 0.36138659 -0.08452251  0.85667061  0.3582892 ]]\n",
      "Eigenvalue 1 from covariance matrix: 4.228241706034867\n",
      "Eigenvector 2: \n",
      "[[-0.65658877 -0.73016143  0.17337266  0.07548102]]\n",
      "Eigenvalue 2 from covariance matrix: 0.24267074792863336\n",
      "Eigenvector 3: \n",
      "[[-0.58202985  0.59791083  0.07623608  0.54583143]]\n",
      "Eigenvalue 3 from covariance matrix: 0.07820950004291945\n",
      "Eigenvector 4: \n",
      "[[ 0.31548719 -0.3197231  -0.47983899  0.75365743]]\n",
      "Eigenvalue 4 from covariance matrix: 0.023835092973449823\n",
      "[[ 0.36138659 -0.08452251  0.85667061  0.3582892 ]\n",
      " [-0.65658877 -0.73016143  0.17337266  0.07548102]\n",
      " [-0.58202985  0.59791083  0.07623608  0.54583143]\n",
      " [ 0.31548719 -0.3197231  -0.47983899  0.75365743]]\n",
      "[[4.22824171]\n",
      " [0.24267075]\n",
      " [0.0782095 ]\n",
      " [0.02383509]]\n"
     ]
    }
   ],
   "source": [
    "#YOUR CODE STARTS HERE\n",
    "# First you have to calculate the mean of each column\n",
    "from numpy import mean\n",
    "from numpy import cov\n",
    "M = mean(X.T , axis =1)\n",
    "print(M)\n",
    "# Now centre columns by subtracting the means from the data\n",
    "\n",
    "C = X - M\n",
    "\n",
    "#Get the covariance matrix using numpy\n",
    "\n",
    "V = cov(C.T)\n",
    "\n",
    "#Now do eigendecomposition of covariance matrix. Don't worry there is also a library in numpy for that. Check numpy.linalg.eig\n",
    "#Store the eigenvalues and eigenvectors in eig_val and eig_vec respectively\n",
    "\n",
    "eig_val, eig_vec = eig(V)\n",
    "\n",
    "l= []\n",
    "m =[]\n",
    "#Print your eigen vectors and eigen values\n",
    "for i in range(len(eig_val)):\n",
    "    eigvec = eig_vec[:,i].reshape(-1 , 1).T\n",
    "    l.append(eigvec)\n",
    "    m.append(eig_val[i])\n",
    "    print('Eigenvector {}: \\n{}'.format(i+1, eigvec))\n",
    "    print('Eigenvalue {} from covariance matrix: {}'.format(i+1, eig_val[i]))\n",
    "d = np.array(l).reshape(4,4)\n",
    "n = np.array(m).reshape(4,1)\n",
    "print(d)\n",
    "print(n)"
   ]
  },
  {
   "cell_type": "code",
   "execution_count": 0,
   "metadata": {
    "colab": {
     "base_uri": "https://localhost:8080/",
     "height": 164
    },
    "colab_type": "code",
    "id": "I7LxCEcTqwXk",
    "outputId": "77a65928-08e1-4ea8-9ef9-cc5275251df5"
   },
   "outputs": [
    {
     "name": "stdout",
     "output_type": "stream",
     "text": [
      "[[ 4.22824171  0.36138659 -0.08452251  0.85667061  0.3582892 ]\n",
      " [ 0.24267075 -0.65658877 -0.73016143  0.17337266  0.07548102]\n",
      " [ 0.0782095  -0.58202985  0.59791083  0.07623608  0.54583143]\n",
      " [ 0.02383509  0.31548719 -0.3197231  -0.47983899  0.75365743]]\n",
      "(array([ 4.22824171,  0.36138659, -0.08452251,  0.85667061,  0.3582892 ]), array([ 0.24267075, -0.65658877, -0.73016143,  0.17337266,  0.07548102]), array([ 0.0782095 , -0.58202985,  0.59791083,  0.07623608,  0.54583143]), array([ 0.02383509,  0.31548719, -0.3197231 , -0.47983899,  0.75365743]))\n",
      "[array([ 4.22824171,  0.36138659, -0.08452251,  0.85667061,  0.3582892 ]), array([ 0.24267075, -0.65658877, -0.73016143,  0.17337266,  0.07548102]), array([ 0.0782095 , -0.58202985,  0.59791083,  0.07623608,  0.54583143]), array([ 0.02383509,  0.31548719, -0.3197231 , -0.47983899,  0.75365743])]\n",
      "[ 4.22824171  0.36138659 -0.08452251  0.85667061  0.3582892 ]\n"
     ]
    }
   ],
   "source": [
    "#YOUR CODE STARTS HERE\n",
    "\n",
    "# Make the (eigenvalue, eigenvector) tuple\n",
    "eig = np.concatenate(( n , d ), axis= 1)\n",
    "print(eig)\n",
    "eig_pairs = tuple(eig)\n",
    "l =[]\n",
    "print(eig_pairs)\n",
    "# Sort the tuples (eig_pairs) from high to low\n",
    "for i in range(len(eig_val)):\n",
    "  max = eig[i]          \n",
    "  for j in range(i , len(eig_val)):\n",
    "    if(eig[j][0] > max[0]):\n",
    "      max = eig[j]\n",
    "  \n",
    "  l.append(max)\n",
    "print(l)    \n",
    "    \n",
    "print(l[0])   \n",
    "               \n",
    "               \n",
    "\n",
    "#YOUR CODE ENDS HERE\n",
    "\n",
    "# Visually confirm that the list is correctly sorted by decreasing eigenvalues\n",
    "# The values printed must be in decreasing order\n",
    "#for i in eig_pairs:\n",
    " #   print(i[0])\n"
   ]
  },
  {
   "cell_type": "code",
   "execution_count": 0,
   "metadata": {
    "colab": {
     "base_uri": "https://localhost:8080/",
     "height": 1000
    },
    "colab_type": "code",
    "id": "PBzP9OM0rayf",
    "outputId": "131640fe-835e-4284-b1d9-11c1f8e5d811"
   },
   "outputs": [
    {
     "name": "stdout",
     "output_type": "stream",
     "text": [
      "Matrix of Weight :\n",
      " [[ 0.36138659 -0.65658877]\n",
      " [-0.08452251 -0.73016143]\n",
      " [ 0.85667061  0.17337266]\n",
      " [ 0.3582892   0.07548102]]\n",
      "Reduced matrix X :\n",
      " [[ 2.81823951 -5.64634982]\n",
      " [ 2.78822345 -5.14995135]\n",
      " [ 2.61337456 -5.18200315]\n",
      " [ 2.75702228 -5.0086536 ]\n",
      " [ 2.7736486  -5.65370709]\n",
      " [ 3.2215055  -6.06828303]\n",
      " [ 2.68182738 -5.23749119]\n",
      " [ 2.87622016 -5.49033754]\n",
      " [ 2.6159824  -4.74864082]\n",
      " [ 2.82960933 -5.21317833]\n",
      " [ 2.99541804 -5.97202148]\n",
      " [ 2.8896099  -5.34168252]\n",
      " [ 2.71625587 -5.09184058]\n",
      " [ 2.27856139 -4.81555799]\n",
      " [ 2.85761474 -6.50571721]\n",
      " [ 3.1163261  -6.66501491]\n",
      " [ 2.87883726 -6.13763209]\n",
      " [ 2.85406843 -5.63880172]\n",
      " [ 3.30254481 -6.19979162]\n",
      " [ 2.91437873 -5.84051289]\n",
      " [ 3.19210892 -5.71829851]\n",
      " [ 2.9586599  -5.75994864]\n",
      " [ 2.28642572 -5.46042065]\n",
      " [ 3.19963195 -5.42566143]\n",
      " [ 3.14661108 -5.28967072]\n",
      " [ 2.99569623 -5.1809357 ]\n",
      " [ 3.03354506 -5.45790407]\n",
      " [ 2.94004523 -5.69467143]\n",
      " [ 2.86283042 -5.63899256]\n",
      " [ 2.87037575 -5.12999135]\n",
      " [ 2.91496666 -5.12263409]\n",
      " [ 3.09243264 -5.73787684]\n",
      " [ 2.8535028  -6.1403164 ]\n",
      " [ 2.90362838 -6.42009834]\n",
      " [ 2.86543825 -5.20563023]\n",
      " [ 2.63612348 -5.39631705]\n",
      " [ 2.87712708 -5.9263226 ]\n",
      " [ 2.70168102 -5.59559631]\n",
      " [ 2.52186309 -4.83899423]\n",
      " [ 2.91235882 -5.55599641]\n",
      " [ 2.73226271 -5.59048011]\n",
      " [ 2.65299643 -4.385992  ]\n",
      " [ 2.50495859 -4.98502652]\n",
      " [ 3.09675065 -5.51582401]\n",
      " [ 3.29287589 -5.76361572]\n",
      " [ 2.78791371 -5.07674437]\n",
      " [ 2.96421687 -5.83072372]\n",
      " [ 2.66290296 -5.09900701]\n",
      " [ 2.95927938 -5.9063626 ]\n",
      " [ 2.79900535 -5.43465866]\n",
      " [ 6.78719082 -6.01211305]\n",
      " [ 6.43485366 -5.64528622]\n",
      " [ 6.96666745 -5.83121539]\n",
      " [ 5.68568285 -4.49899357]\n",
      " [ 6.59046839 -5.40154325]\n",
      " [ 6.14403422 -4.90870571]\n",
      " [ 6.5974258  -5.61042085]\n",
      " [ 4.75324246 -4.32206162]\n",
      " [ 6.54649696 -5.55531448]\n",
      " [ 5.49361973 -4.60387067]\n",
      " [ 4.99452425 -4.06098139]\n",
      " [ 6.01406369 -5.22297134]\n",
      " [ 5.76734164 -4.77691611]\n",
      " [ 6.48729964 -5.20213472]\n",
      " [ 5.32843976 -5.07209837]\n",
      " [ 6.43022591 -5.79413207]\n",
      " [ 6.16264889 -4.97398291]\n",
      " [ 5.73847013 -4.99334181]\n",
      " [ 6.44709886 -4.78380703]\n",
      " [ 5.54759211 -4.7431182 ]\n",
      " [ 6.61864831 -5.24233572]\n",
      " [ 5.86025355 -5.25802755]\n",
      " [ 6.80054901 -4.99916527]\n",
      " [ 6.42409406 -5.14421478]\n",
      " [ 6.21721846 -5.47600852]\n",
      " [ 6.40253951 -5.65545705]\n",
      " [ 6.83438957 -5.57139345]\n",
      " [ 7.06016729 -5.59444802]\n",
      " [ 6.31565578 -5.16360228]\n",
      " [ 5.19678135 -4.95869039]\n",
      " [ 5.43423864 -4.62178045]\n",
      " [ 5.31274266 -4.64666581]\n",
      " [ 5.63879384 -5.01292014]\n",
      " [ 6.88239157 -4.90599829]\n",
      " [ 6.09037158 -4.84266516]\n",
      " [ 6.30922345 -5.52113489]\n",
      " [ 6.72305602 -5.73457217]\n",
      " [ 6.31746037 -4.95491552]\n",
      " [ 5.74832281 -5.05842818]\n",
      " [ 5.66877835 -4.64502585]\n",
      " [ 5.96716542 -4.65624103]\n",
      " [ 6.39318033 -5.29248813]\n",
      " [ 5.73291316 -4.92256673]\n",
      " [ 4.79783337 -4.31470435]\n",
      " [ 5.85934663 -4.82204248]\n",
      " [ 5.83429961 -5.11429789]\n",
      " [ 5.87858078 -5.03373365]\n",
      " [ 6.14494114 -5.34469077]\n",
      " [ 4.59589527 -4.57085921]\n",
      " [ 5.80136597 -4.97805477]\n",
      " [ 8.03355786 -5.31710347]\n",
      " [ 6.91760101 -4.75203623]\n",
      " [ 8.11904115 -5.67085573]\n",
      " [ 7.47389619 -5.14722467]\n",
      " [ 7.85237105 -5.28669163]\n",
      " [ 8.89940387 -5.87778925]\n",
      " [ 6.02359738 -4.13419385]\n",
      " [ 8.4349522  -5.68245258]\n",
      " [ 7.82359395 -5.08312107]\n",
      " [ 8.4191161  -6.10974453]\n",
      " [ 7.16413929 -5.56918098]\n",
      " [ 7.30576709 -5.11131496]\n",
      " [ 7.66795693 -5.54322816]\n",
      " [ 6.84852871 -4.55013423]\n",
      " [ 7.08829336 -4.78731186]\n",
      " [ 7.40682151 -5.44620327]\n",
      " [ 7.45205419 -5.36889584]\n",
      " [ 8.9894205  -6.50269191]\n",
      " [ 9.29801055 -5.58427555]\n",
      " [ 6.80315685 -4.56580294]\n",
      " [ 7.93018305 -5.70514859]\n",
      " [ 6.70136624 -4.72086105]\n",
      " [ 9.00228517 -5.78762668]\n",
      " [ 6.89113126 -5.12255325]\n",
      " [ 7.77779564 -5.66194318]\n",
      " [ 8.11645561 -5.88785393]\n",
      " [ 6.76087329 -5.14724778]\n",
      " [ 6.79349719 -5.21028393]\n",
      " [ 7.62597386 -5.1172231 ]\n",
      " [ 7.89036815 -5.79159238]\n",
      " [ 8.34403791 -5.70222174]\n",
      " [ 8.73303879 -6.70111766]\n",
      " [ 7.66180278 -5.109675  ]\n",
      " [ 6.94652637 -5.18353917]\n",
      " [ 7.28365994 -4.8270509 ]\n",
      " [ 8.57886506 -6.01503825]\n",
      " [ 7.64660845 -5.46701678]\n",
      " [ 7.40746328 -5.3762531 ]\n",
      " [ 6.67169147 -5.16196231]\n",
      " [ 7.60997628 -5.69924045]\n",
      " [ 7.81651984 -5.51060386]\n",
      " [ 7.42463293 -5.73615604]\n",
      " [ 6.91760101 -4.75203623]\n",
      " [ 8.06537851 -5.60481518]\n",
      " [ 7.92111132 -5.63175077]\n",
      " [ 7.44647493 -5.51448488]\n",
      " [ 7.02953175 -4.95163559]\n",
      " [ 7.26671085 -5.40581143]\n",
      " [ 7.40330675 -5.44358054]\n",
      " [ 6.89255399 -5.04429164]]\n"
     ]
    }
   ],
   "source": [
    "#Now the take the first k eigen_vectors. Here we have taken k as 2.\n",
    "weights = np.hstack((d[0].reshape(4,1), d[1].reshape(4,1)))\n",
    "print('Matrix of Weight :\\n', weights)\n",
    "\n",
    "#Now multiply the matrix X with the weights to get the reduced matrix and name the matrix as reduced_x\n",
    "#YOUR CODE STARTS HERE\n",
    "\n",
    "reduced_x = X.dot(weights)\n",
    "print('Reduced matrix X :\\n',reduced_x)\n",
    "#YOUR CODE ENDS HERE"
   ]
  },
  {
   "cell_type": "markdown",
   "metadata": {
    "colab_type": "text",
    "id": "QYKMgEbYrsg7"
   },
   "source": [
    "#VISUALISING AND COMPARING\n",
    "\n",
    "Now we will visualise and compare the performance of our pca with the inbuilt pca provided to us by sklearn library\n"
   ]
  },
  {
   "cell_type": "code",
   "execution_count": 0,
   "metadata": {
    "colab": {
     "base_uri": "https://localhost:8080/",
     "height": 181
    },
    "colab_type": "code",
    "id": "8LpPvwGzrp5A",
    "outputId": "43488000-0839-4715-8006-81cc33c16dd9"
   },
   "outputs": [
    {
     "data": {
      "text/plain": [
       "Text(0.5, 1.0, 'PCA implemented by you')"
      ]
     },
     "execution_count": 10,
     "metadata": {
      "tags": []
     },
     "output_type": "execute_result"
    },
    {
     "data": {
      "image/png": "[encoded data removed]",
      "text/plain": [
       "<Figure size 432x288 with 2 Axes>"
      ]
     },
     "metadata": {
      "tags": []
     },
     "output_type": "display_data"
    }
   ],
   "source": [
    "#Applying Sklearn PCA.\n",
    "pca = PCA(n_components=2)\n",
    "pca.fit(X)\n",
    "x_pca=pca.transform(X)\n",
    "#Visually comparing the plots after applying our own pca and sklearn pca function\n",
    "plt.subplot(221)\n",
    "plt.scatter(x_pca[:,0],x_pca[:,1],c=y)\n",
    "plt.title('Sklearn PCA')\n",
    "plt.subplot(222)\n",
    "plt.scatter(reduced_x[:,0],reduced_x[:,1],c=y)\n",
    "plt.title('PCA implemented by you')"
   ]
  },
  {
   "cell_type": "markdown",
   "metadata": {
    "colab_type": "text",
    "id": "PNUbiDKWr_0y"
   },
   "source": [
    "We can see from the above figure that the main difference between the two graphs is that our graph is shifted and also our PCA is reflecting mirror image about horizontal axis but we can see the distance between any two points is same in our PCA as well as in PCA of sklearn i.e Information is preserved in both the graphs. We can also see this by comparing the performances of both"
   ]
  },
  {
   "cell_type": "code",
   "execution_count": 0,
   "metadata": {
    "colab": {
     "base_uri": "https://localhost:8080/",
     "height": 53
    },
    "colab_type": "code",
    "id": "89yU8wrrr0uZ",
    "outputId": "d2320815-bb04-44cd-d2b1-3cacfe13fea4"
   },
   "outputs": [
    {
     "name": "stdout",
     "output_type": "stream",
     "text": [
      "Accuracy on the sklearn reduced dataset:  0.9533333333333334\n",
      "Accuracy on the our PCA reduced dataset:  0.9533333333333334\n"
     ]
    }
   ],
   "source": [
    "#Accuracies on both the reduced training sets\n",
    "\n",
    "#Fitting the SVC model on sklearn PCA dataset\n",
    "clf = svm.SVC(gamma='auto')\n",
    "clf.fit(x_pca, y)\n",
    "y_pred=clf.predict(x_pca)\n",
    "print('Accuracy on the sklearn reduced dataset: ',sum(y==y_pred)/len(y_pred))\n",
    "\n",
    "#Fitting the SVC model on our PCA dataset\n",
    "clf1 = svm.SVC(gamma='auto')\n",
    "clf1.fit(reduced_x,y)\n",
    "y_pred=clf1.predict(reduced_x)\n",
    "print('Accuracy on the our PCA reduced dataset: ',sum(y==y_pred)/len(y_pred))\n"
   ]
  },
  {
   "cell_type": "markdown",
   "metadata": {
    "colab_type": "text",
    "id": "cbTWkNNesQIX"
   },
   "source": [
    "We see that acuuracies are the same!! So the pca implemented by you is correct."
   ]
  },
  {
   "cell_type": "markdown",
   "metadata": {
    "colab_type": "text",
    "id": "4S6iThyPsVnO"
   },
   "source": [
    "**CHEER UP!!!!!** \n",
    "\n",
    "You are halfway through the assignment.\n",
    "Now comes the major part of assignment.Now we will make a face recogniser model.\n",
    "But first there are some things you have to do :-\n",
    "\n",
    "\n",
    "*   First you have to download the dataset provided in the link.\n",
    "\n",
    "      LINK TO DATASET :  https://drive.google.com/drive/folders/1sXCH0jljR35xrL4c1d04A_Ra4V6Bvey6?usp=sharing\n",
    "*   Second you have to upload the dataset on the drive which you have mounted (your google drive).\n",
    "\n",
    "**Note**- Don't change the name of the folder i.e all the data must be stored in the data folder\n",
    "\n"
   ]
  },
  {
   "cell_type": "markdown",
   "metadata": {
    "colab_type": "text",
    "id": "oqK5BgI0s_no"
   },
   "source": [
    "#Loading data\n",
    "\n",
    "**Task 1**\n",
    "\n",
    "The first task is to load the images from data/folder as NumPy array. First manually go through the data, and understand how it is organised.\n",
    "\n",
    "X should be a NumPy array containing images and y should contain the corresponding labels.\n",
    "\n",
    "Go through os.path.join and os.listdir functions. Refer to cv2.imread function for loading image. Note the images are colored so you have to store them as black and white."
   ]
  },
  {
   "cell_type": "code",
   "execution_count": 0,
   "metadata": {
    "colab": {
     "base_uri": "https://localhost:8080/",
     "height": 35
    },
    "colab_type": "code",
    "id": "T6lHb5r0sO38",
    "outputId": "e3365b60-a623-4f69-b58d-af5111fb9349"
   },
   "outputs": [
    {
     "name": "stdout",
     "output_type": "stream",
     "text": [
      "X.shape: (400, 200, 180), y.shape: (400,)\n"
     ]
    }
   ],
   "source": [
    "X = []\n",
    "y = []\n",
    "for sub_dir in os.listdir('data'):\n",
    "    if not os.path.isdir(os.path.join('data', sub_dir)):\n",
    "        continue\n",
    "\n",
    "    label = int(sub_dir)\n",
    "    for file in os.listdir(os.path.join('data', sub_dir)):\n",
    "        #YOUR CODE STARTS HERE\n",
    "        \n",
    "        # get the full path of the image. (Hint: use os library as used above)\n",
    "        filename = os.path.join('data', sub_dir)\n",
    "        # Read the image using opencv\n",
    "        image= cv2.imread(os.path.join(filename,file),cv2.IMREAD_GRAYSCALE)\n",
    "    \n",
    "        # Append the image and label in the X and y list respectively\n",
    "        X.append(image)\n",
    "        y.append(label)\n",
    "        #YOUR CODE ENDS HERE\n",
    "        \n",
    "X = np.array(X, dtype='float64')\n",
    "y = np.array(y)\n",
    "\n",
    "print(\"X.shape: {}, y.shape: {}\".format(X.shape, y.shape))"
   ]
  },
  {
   "cell_type": "markdown",
   "metadata": {
    "colab_type": "text",
    "id": "It9xlCRruFfu"
   },
   "source": [
    "#Analysing data\n",
    "\n",
    "Let us first visualise the first image of our dataset."
   ]
  },
  {
   "cell_type": "code",
   "execution_count": 0,
   "metadata": {
    "colab": {
     "base_uri": "https://localhost:8080/",
     "height": 305
    },
    "colab_type": "code",
    "id": "OFgjutn-sLPq",
    "outputId": "313cc889-b200-4b2c-bc2d-0371eb87c577"
   },
   "outputs": [
    {
     "data": {
      "image/png": "[encoded data removed]",
      "text/plain": [
       "<Figure size 432x288 with 1 Axes>"
      ]
     },
     "metadata": {
      "tags": []
     },
     "output_type": "display_data"
    },
    {
     "name": "stdout",
     "output_type": "stream",
     "text": [
      "Number of Images:  400\n",
      "Number of features for each image:  36000\n"
     ]
    }
   ],
   "source": [
    "imgplot = plt.imshow(X[1],cmap='gray')\n",
    "plt.show()\n",
    "print('Number of Images: ',X.shape[0])\n",
    "print('Number of features for each image: ',X.shape[1]*X.shape[2])"
   ]
  },
  {
   "cell_type": "markdown",
   "metadata": {
    "colab_type": "text",
    "id": "1ZFYINDTuQei"
   },
   "source": [
    "#Feature Extraction\n",
    "**Task 2**\n",
    "\n",
    "Currently, X is a 3D NumPy array. For each of the 400 images, we have a corresponding 2D matrix storing the pixel values. We will flatten this 2D matrix and use the flattened vector as the feature vector for the image.\n",
    "\n",
    "Note that the number of features obtained this way are very large. There are a number of better methods to extract features from images like convolutional neural networks but for now lets go with this.\n",
    "\n",
    "Reshape X into 400xN, where N is the number of features (200x180)."
   ]
  },
  {
   "cell_type": "code",
   "execution_count": 0,
   "metadata": {
    "colab": {},
    "colab_type": "code",
    "id": "8RJMz9MzuJ6N"
   },
   "outputs": [],
   "source": [
    "#YOUR CODE STARTS HERE\n",
    "X = X.reshape(400 , 36000)\n",
    "#YOUR CODE ENDS HERE"
   ]
  },
  {
   "cell_type": "markdown",
   "metadata": {
    "colab_type": "text",
    "id": "6nwC_fvSub8A"
   },
   "source": [
    "#Dimensionality Reduction\n",
    "\n",
    "First, we will use Dimensionality Reduction for Data Visualisation. We will reduce the dimensionality of the data to 2 and plot it. Before applying PCA (one of the Dimensionality Reduction algorithms), we will standardise the data. For sake of clarity, we will be only using the data corresponding to the first num_labels classes. Later you can experiment by changing this parameter."
   ]
  },
  {
   "cell_type": "code",
   "execution_count": 0,
   "metadata": {
    "colab": {
     "base_uri": "https://localhost:8080/",
     "height": 35
    },
    "colab_type": "code",
    "id": "SgYvLEcUujLC",
    "outputId": "3813c909-e325-43a3-f9f5-96aa38ded329"
   },
   "outputs": [
    {
     "name": "stdout",
     "output_type": "stream",
     "text": [
      "(100, 36000)\n"
     ]
    }
   ],
   "source": [
    "num_labels = 5\n",
    "X_sample = X[y <= num_labels]\n",
    "y_sample = y[y <= num_labels]\n",
    "\n",
    "X_sample_scaled = normalize(X_sample, norm='l2', axis=0, copy=True, return_norm=False)\n",
    "print(X_sample_scaled.shape)"
   ]
  },
  {
   "cell_type": "markdown",
   "metadata": {
    "colab_type": "text",
    "id": "YoLB-cXdvH_b"
   },
   "source": [
    "**Task 3**\n",
    "\n",
    "Reduce the dimensionality of X_sample_scaled to 2 using sklearn.decomposition.PCA and assign it to X_sample_2d"
   ]
  },
  {
   "cell_type": "code",
   "execution_count": 0,
   "metadata": {
    "colab": {},
    "colab_type": "code",
    "id": "_5WsHbZivFXY"
   },
   "outputs": [],
   "source": [
    "# YOUR CODE STARTS HERE\n",
    "pca =PCA(n_components = 2)\n",
    "pca.fit(X_sample_scaled)\n",
    "X_sample_2d = pca.transform(X_sample_scaled)\n",
    "\n",
    "# YOUR CODE ENDS "
   ]
  },
  {
   "cell_type": "code",
   "execution_count": 0,
   "metadata": {
    "colab": {
     "base_uri": "https://localhost:8080/",
     "height": 270
    },
    "colab_type": "code",
    "id": "YGOmXnvQvOWz",
    "outputId": "dea3a8f3-417a-46cd-b00a-c18b8e5e1360"
   },
   "outputs": [
    {
     "data": {
      "image/png": "[encoded data removed]",
      "text/plain": [
       "<Figure size 432x288 with 2 Axes>"
      ]
     },
     "metadata": {
      "tags": []
     },
     "output_type": "display_data"
    }
   ],
   "source": [
    "#Visualising the data\n",
    "num_labels=5\n",
    "plt.scatter(X_sample_2d[:,0],X_sample_2d[:,1],c=y_sample,cmap=plt.cm.get_cmap('Accent', num_labels))\n",
    "\n",
    "color = plt.colorbar()\n",
    "loc = np.arange(1, num_labels+1)\n",
    "color=color.set_ticks(loc)"
   ]
  },
  {
   "cell_type": "markdown",
   "metadata": {
    "colab_type": "text",
    "id": "SOYNnHHpvXbM"
   },
   "source": [
    "\n",
    "We can clearly see PCA has projected the highly dimensional dataset into 2 dimensions, which we can see on plotting look clustered.\n",
    "\n",
    "Although this data visualisation is not very useful for supervised learning tasks, they prove useful for unsupervised learning tasks."
   ]
  },
  {
   "cell_type": "markdown",
   "metadata": {
    "colab_type": "text",
    "id": "rTQzSHCuwhna"
   },
   "source": [
    "#Speeding up training and reducing memory\n",
    "The other two applications of Dimensionality reduction are, speeding up training and reducing memory required to store the data. We will start by investigating the memory required."
   ]
  },
  {
   "cell_type": "code",
   "execution_count": 0,
   "metadata": {
    "colab": {
     "base_uri": "https://localhost:8080/",
     "height": 35
    },
    "colab_type": "code",
    "id": "syi6lBRswgCj",
    "outputId": "aa965a18-1228-4062-fe9f-28b64eafa804"
   },
   "outputs": [
    {
     "name": "stdout",
     "output_type": "stream",
     "text": [
      "Memory used by X_train: 109.86MB\n"
     ]
    }
   ],
   "source": [
    "print(\"Memory used by X_train: {:.2f}MB\".format(X.nbytes / 1024 / 1024))"
   ]
  },
  {
   "cell_type": "markdown",
   "metadata": {
    "colab_type": "text",
    "id": "GE4UQ-jhwqFC"
   },
   "source": [
    "In this case, because of low resolution of images and less data, the memory used in storing data is already quite low."
   ]
  },
  {
   "cell_type": "markdown",
   "metadata": {
    "colab_type": "text",
    "id": "TvnlwEI-wunr"
   },
   "source": [
    "#Splitting the dataset"
   ]
  },
  {
   "cell_type": "code",
   "execution_count": 0,
   "metadata": {
    "colab": {},
    "colab_type": "code",
    "id": "JSiQGxtovZ6z"
   },
   "outputs": [],
   "source": [
    "from sklearn.model_selection import train_test_split\n",
    "X_train, X_temp, y_train, y_temp = train_test_split(X, y, test_size=0.3, random_state=34)\n",
    "X_val, X_test, y_val, y_test = train_test_split(X_temp, y_temp, test_size=0.5, random_state=34)"
   ]
  },
  {
   "cell_type": "markdown",
   "metadata": {
    "colab_type": "text",
    "id": "GZ6OQvcNw_bX"
   },
   "source": [
    "#Standardising the Dataset\n",
    "Standardization of datasets is a common requirement for many machine learning estimators implemented in scikit-learn; they might behave badly if the individual features do not more or less look like standard normally distributed data.\n",
    "\n",
    "Standardising the dataset is not only helpful for training machine learning models but is also a requirement before applying PCA. We will standardise all three X_train, X_val and X_test."
   ]
  },
  {
   "cell_type": "code",
   "execution_count": 0,
   "metadata": {
    "colab": {
     "base_uri": "https://localhost:8080/",
     "height": 526
    },
    "colab_type": "code",
    "id": "d2wIPDSkxA6E",
    "outputId": "2b27de5b-dc1f-42d3-aabd-78d39c7bc750"
   },
   "outputs": [
    {
     "name": "stdout",
     "output_type": "stream",
     "text": [
      "X_train_scaled: \n",
      " [[ 1.2847427   1.30904276  1.36291185 ...  0.94863783  0.87569868\n",
      "   0.84622936]\n",
      " [-0.43341496 -0.44080121 -0.4448348  ... -0.88246285 -0.89937654\n",
      "  -0.90734802]\n",
      " [ 1.04359776  1.00734552  1.00136252 ... -1.03505457 -1.07046812\n",
      "  -1.07636753]\n",
      " ...\n",
      " [-1.94057079 -1.91911767 -1.92116124 ...  2.36556098  2.35136362\n",
      "   2.3040226 ]\n",
      " [-1.63913962 -1.64759015 -1.64999924 ... -0.90426167 -0.92076298\n",
      "  -0.92847546]\n",
      " [ 0.19959049  0.25310243  0.27826386 ... -0.55548059 -0.72828495\n",
      "  -0.71720108]]\n",
      "X_val_scaled : \n",
      " [[ 0.18418069  0.14281704  0.07093764 ... -0.06260132 -0.33427773\n",
      "  -0.59265274]\n",
      " [-0.33221377 -0.33704822 -0.30361312 ... -0.59918411 -0.71034017\n",
      "  -0.67627218]\n",
      " [ 0.18418069  0.17709313  0.13903778 ... -0.8468377  -0.85658667\n",
      "  -0.90622562]\n",
      " ...\n",
      " [-0.09122969  0.00571268  0.17308785 ... -0.68173531 -0.68944781\n",
      "  -0.69717704]\n",
      " [-0.64205045 -0.64553303 -0.64411381 ... -0.8261999  -0.81480196\n",
      "  -0.80170133]\n",
      " [ 1.69893779  1.78806938  1.87559132 ...  0.47398146  0.48052423\n",
      "   0.49439991]]\n",
      "(60, 36000)\n"
     ]
    }
   ],
   "source": [
    "# Standardize the data (Hint: See above)\n",
    "# YOUR CODE STARTS HERE\n",
    "from sklearn.preprocessing import StandardScaler\n",
    "X_train_scaled = []\n",
    "X_val_scaled =[]\n",
    "scaler = StandardScaler()\n",
    "scaler = scaler.fit(X_train)\n",
    "normalized = scaler.transform(X_train)\n",
    "for i in range(280):\n",
    "  X_train_scaled.append(normalized[i])\n",
    "X_train_scaled = np.array(X_train_scaled)\n",
    "print('X_train_scaled: \\n' , X_train_scaled)  \n",
    "#X_train_scaled = \n",
    "#X_val_scaled = \n",
    "scaler_val = StandardScaler()\n",
    "scaler_val = scaler_val.fit(X_val)\n",
    "normalized_val = scaler_val.transform(X_val)\n",
    "for i in range(60):\n",
    "  X_val_scaled.append(normalized_val[i])\n",
    "X_val_scaled = np.array(X_val_scaled)\n",
    "print('X_val_scaled : \\n',X_val_scaled)\n",
    "# YOUR CODE ENDS HERE\n",
    "print(X_val_scaled.shape)"
   ]
  },
  {
   "cell_type": "markdown",
   "metadata": {
    "colab_type": "text",
    "id": "hcNls6OTxath"
   },
   "source": [
    "#Training and Hyperparameter Tuning\n",
    "**Without Dimensionality reduction**\n",
    "\n",
    "We will be using time magic command in Jupyter Notebook to measure the time taken in fitting the model. Read up about other useful magic commands like timeit prun, lprun on the web page linked before."
   ]
  },
  {
   "cell_type": "code",
   "execution_count": 0,
   "metadata": {
    "colab": {},
    "colab_type": "code",
    "id": "GVMw3qHKxXhi"
   },
   "outputs": [],
   "source": [
    "#clf = LinearSVC(C=.001)\n",
    "#%time clf = clf.fit(X_train_scaled, y_train)\n",
    "\n",
    "#print(\"Training accuracy: {:.4f}, Val Accuracy: {:.4f}\".format(clf.score(X_train_scaled, y_train), clf.score(X_val_scaled, y_val)))"
   ]
  },
  {
   "cell_type": "code",
   "execution_count": 0,
   "metadata": {
    "colab": {},
    "colab_type": "code",
    "id": "wH9PmdRpxsaB"
   },
   "outputs": [],
   "source": [
    "clf = LogisticRegression(C=.001)\n",
    "%time clf = clf.fit(X_train_scaled, y_train)\n",
    "\n",
    "print(\"Training accuracy: {:.4f}, Val Accuracy: {:.4f}\".format(clf.score(X_train_scaled, y_train), clf.score(X_val_scaled, y_val)))"
   ]
  },
  {
   "cell_type": "markdown",
   "metadata": {
    "colab_type": "text",
    "id": "La1j9tzhx1XG"
   },
   "source": [
    "**With Dimensionality reduction**\n",
    "\n",
    "Clearly, the time taken to train the model is considerably high. It is infeasible to perform hyperparameter tuning when training the model takes so much time. In some cases when the dataset is even bigger, we might not be able to even train the model with the computing resources in hand. PCA becomes essential to speed up training.\n",
    "\n",
    "#Task 4\n",
    "\n",
    "Make an object of PCA class named pca so that 99% of variance is preserved. Refer to the documentation of PCA class.\n",
    "\n"
   ]
  },
  {
   "cell_type": "code",
   "execution_count": 0,
   "metadata": {
    "colab": {},
    "colab_type": "code",
    "id": "df5DyAUKxz1i"
   },
   "outputs": [],
   "source": [
    "# YOUR CODE STARTS HERE\n",
    "#from matplotlib.mlab import PCA as mlabPCA\n",
    "\n",
    "#mlab_pca = mlabPCA(X_sample.T)\n",
    "\n",
    "from sklearn.decomposition import PCA\n",
    "pca = PCA(n_components = .99)\n",
    "    \n",
    "# YOUR CODE ENDS HERE"
   ]
  },
  {
   "cell_type": "code",
   "execution_count": 0,
   "metadata": {
    "colab": {
     "base_uri": "https://localhost:8080/",
     "height": 230
    },
    "colab_type": "code",
    "id": "nbfurqM6xu8F",
    "outputId": "3cb166b0-129a-4359-970c-dada4a3f26b9"
   },
   "outputs": [
    {
     "name": "stdout",
     "output_type": "stream",
     "text": [
      "Dimensionality reduced to: 107\n"
     ]
    },
    {
     "name": "stderr",
     "output_type": "stream",
     "text": [
      "/usr/local/lib/python3.6/dist-packages/sklearn/linear_model/logistic.py:432: FutureWarning: Default solver will be changed to 'lbfgs' in 0.22. Specify a solver to silence this warning.\n",
      "  FutureWarning)\n"
     ]
    },
    {
     "name": "stdout",
     "output_type": "stream",
     "text": [
      "CPU times: user 1.03 s, sys: 86 ms, total: 1.11 s\n",
      "Wall time: 1 s\n",
      "Training accuracy: 1.0000, Val Accuracy: 1.0000\n",
      "CPU times: user 1.94 s, sys: 86.6 ms, total: 2.03 s\n",
      "Wall time: 1.91 s\n",
      "Training accuracy: 1.0000, Val Accuracy: 1.0000\n"
     ]
    },
    {
     "name": "stderr",
     "output_type": "stream",
     "text": [
      "/usr/local/lib/python3.6/dist-packages/sklearn/svm/base.py:929: ConvergenceWarning: Liblinear failed to converge, increase the number of iterations.\n",
      "  \"the number of iterations.\", ConvergenceWarning)\n"
     ]
    }
   ],
   "source": [
    "\n",
    "X_train_pca = pca.fit_transform(X_train_scaled)\n",
    "X_val_pca = pca.transform(X_val_scaled)\n",
    "\n",
    "print(\"Dimensionality reduced to:\", pca.n_components_)\n",
    "\n",
    "clf = LogisticRegression(C=10000,multi_class='auto')\n",
    "%time clf = clf.fit(X_train_pca, y_train)\n",
    "\n",
    "print(\"Training accuracy: {:.4f}, Val Accuracy: {:.4f}\".format(clf.score(X_train_pca, y_train), clf.score(X_val_pca, y_val)))\n",
    "\n",
    "clf = LinearSVC(C=.001)\n",
    "%time clf = clf.fit(X_train_pca, y_train)\n",
    "\n",
    "print(\"Training accuracy: {:.4f}, Val Accuracy: {:.4f}\".format(clf.score(X_train_pca, y_train), clf.score(X_val_pca, y_val)))\n"
   ]
  },
  {
   "cell_type": "markdown",
   "metadata": {
    "colab_type": "text",
    "id": "ppyGMRYUyGRb"
   },
   "source": [
    "Clealy you can see that the training time is reduced as compared to that without pca. Although PCA is faster at the cost of accuracy the models can be fine tuned easily and more experiments can be performed. This is a huge benifit of PCA."
   ]
  },
  {
   "cell_type": "markdown",
   "metadata": {
    "colab_type": "text",
    "id": "_OYAH5WlyxY3"
   },
   "source": [
    "#APPLY ANOTHER ALGORITHM\n",
    "\n",
    "Play with the dataset. Try to apply algorithm like SVC, decision trees etc. and check whether you are getting higher accuracies using these algorithm."
   ]
  },
  {
   "cell_type": "code",
   "execution_count": 0,
   "metadata": {
    "colab": {
     "base_uri": "https://localhost:8080/",
     "height": 228
    },
    "colab_type": "code",
    "id": "1Eo3-4DOyvSs",
    "outputId": "3d9a26f5-078f-417b-a6ed-89b1a0c68f39"
   },
   "outputs": [
    {
     "name": "stdout",
     "output_type": "stream",
     "text": [
      "CPU times: user 10.2 ms, sys: 0 ns, total: 10.2 ms\n",
      "Wall time: 10.2 ms\n",
      "Training accuracy: 1.0000, Val Accuracy: 0.6667\n",
      "CPU times: user 1.1 ms, sys: 44 µs, total: 1.14 ms\n",
      "Wall time: 2.67 ms\n",
      "Training accuracy: 1.0000, Val Accuracy: 1.0000\n",
      "CPU times: user 20.3 ms, sys: 40 µs, total: 20.3 ms\n",
      "Wall time: 20.2 ms\n",
      "Training accuracy: 1.0000, Val Accuracy: 1.0000\n",
      "CPU times: user 1.76 ms, sys: 0 ns, total: 1.76 ms\n",
      "Wall time: 1.68 ms\n",
      "Training accuracy: 1.0000, Val Accuracy: 0.8000\n"
     ]
    }
   ],
   "source": [
    "#YOUR CODE STARTS HERE\n",
    "from sklearn.neighbors import KNeighborsClassifier\n",
    "from sklearn.tree import DecisionTreeClassifier\n",
    "from sklearn.ensemble import RandomForestClassifier\n",
    "from sklearn.naive_bayes import GaussianNB\n",
    "from sklearn.svm import SVC\n",
    "\n",
    "\n",
    "\n",
    "clf = DecisionTreeClassifier()\n",
    "%time clf = clf.fit(X_train_pca, y_train)\n",
    "\n",
    "print(\"Training accuracy: {:.4f}, Val Accuracy: {:.4f}\".format(clf.score(X_train_pca, y_train), clf.score(X_val_pca, y_val)))\n",
    "\n",
    "\n",
    "clf = KNeighborsClassifier(n_neighbors = 13 )\n",
    "%time clf = clf.fit(X_train_pca, y_train)\n",
    "\n",
    "print(\"Training accuracy: {:.4f}, Val Accuracy: {:.4f}\".format(clf.score(X_train_pca, y_train), clf.score(X_val_pca, y_val)))\n",
    "\n",
    "clf = RandomForestClassifier(n_estimators = 13)\n",
    "%time clf = clf.fit(X_train_pca, y_train)\n",
    "\n",
    "print(\"Training accuracy: {:.4f}, Val Accuracy: {:.4f}\".format(clf.score(X_train_pca, y_train), clf.score(X_val_pca, y_val)))\n",
    "\n",
    "\n",
    "clf_1 = GaussianNB()\n",
    "%time clf_1 = clf_1.fit(X_train_pca, y_train)\n",
    "\n",
    "print(\"Training accuracy: {:.4f}, Val Accuracy: {:.4f}\".format(clf_1.score(X_train_pca, y_train), clf_1.score(X_val_pca, y_val)))\n",
    "\n",
    "\n",
    "#%time clf = clf.fit(X_train_pca, y_train)\n",
    "\n",
    "#print(\"Training accuracy: {:.4f}, Val Accuracy: {:.4f}\".format(clf.score(X_train_pca, y_train), clf.score(X_val_pca, y_val)))\n",
    "\n",
    "#YOUR CODE ENDS HERE"
   ]
  },
  {
   "cell_type": "markdown",
   "metadata": {
    "colab_type": "text",
    "id": "TLeZXZQ6zAjp"
   },
   "source": [
    "#Testing\n",
    "We now test our model on the testing data."
   ]
  },
  {
   "cell_type": "code",
   "execution_count": 0,
   "metadata": {
    "colab": {},
    "colab_type": "code",
    "id": "k4CIjRlUzCJY"
   },
   "outputs": [],
   "source": [
    "def plot_gallery(images, titles, rows=3, cols=4):\n",
    "    plt.figure()\n",
    "    for i in range(rows * cols):\n",
    "        fig = plt.subplot(rows, cols, i + 1)\n",
    "        plt.imshow(images[i], cmap=plt.cm.gray)\n",
    "        plt.title(titles[i])\n",
    "        plt.xticks(())\n",
    "        plt.yticks(())\n",
    "    plt.tight_layout()\n",
    "    plt.show()\n",
    "        \n",
    "def titles(y_pred, y_test):\n",
    "    for i in range(y_pred.shape[0]):\n",
    "        yield 'predicted: {0}\\ntrue: {1}'.format(y_pred[i], y_test[i])\n",
    "\n",
    "\n"
   ]
  },
  {
   "cell_type": "code",
   "execution_count": 0,
   "metadata": {
    "colab": {
     "base_uri": "https://localhost:8080/",
     "height": 125
    },
    "colab_type": "code",
    "id": "Dz5LWHsczQrn",
    "outputId": "0b1daab0-916e-4f72-8d13-bf2bbb9cf735"
   },
   "outputs": [
    {
     "name": "stderr",
     "output_type": "stream",
     "text": [
      "/usr/local/lib/python3.6/dist-packages/sklearn/linear_model/logistic.py:432: FutureWarning: Default solver will be changed to 'lbfgs' in 0.22. Specify a solver to silence this warning.\n",
      "  FutureWarning)\n",
      "/usr/local/lib/python3.6/dist-packages/sklearn/linear_model/logistic.py:469: FutureWarning: Default multi_class will be changed to 'auto' in 0.22. Specify the multi_class option to silence this warning.\n",
      "  \"this warning.\", FutureWarning)\n"
     ]
    },
    {
     "name": "stdout",
     "output_type": "stream",
     "text": [
      "Accuracy score: 1.0000\n"
     ]
    }
   ],
   "source": [
    "\n",
    "\n",
    "clf = LogisticRegression().fit(X_train_pca , y_train)\n",
    "X_test_scaled = normalize(X_test, norm='l2', axis=0, copy=True, return_norm=False)\n",
    "X_test_pca = pca.transform(X_test_scaled)\n",
    "\n",
    "y_pred = clf.predict(X_test_pca)\n",
    "print('Accuracy score: {:.4f}'.format(accuracy_score(y_test, y_pred)))"
   ]
  },
  {
   "cell_type": "markdown",
   "metadata": {
    "colab_type": "text",
    "id": "5DuWxhWdzVhH"
   },
   "source": [
    "#PREDICTIONS"
   ]
  },
  {
   "cell_type": "code",
   "execution_count": 0,
   "metadata": {
    "colab": {
     "base_uri": "https://localhost:8080/",
     "height": 298
    },
    "colab_type": "code",
    "id": "DB4DBU3mzW1t",
    "outputId": "e33e49cf-14f2-4373-8bec-475be4032e6d"
   },
   "outputs": [
    {
     "data": {
      "image/png": "[encoded data removed]",
      "text/plain": [
       "<Figure size 432x288 with 12 Axes>"
      ]
     },
     "metadata": {
      "tags": []
     },
     "output_type": "display_data"
    }
   ],
   "source": [
    "prediction_titles = list(titles(y_pred, y_test))\n",
    "plot_gallery(X_test.reshape(-1, 200, 180), prediction_titles)"
   ]
  },
  {
   "cell_type": "markdown",
   "metadata": {
    "colab_type": "text",
    "id": "XszEQIfEzhC0"
   },
   "source": [
    "Congratulations you have built a face recogniser! You also explored the application of dimensionality reduction in this assignment.\n",
    "\n",
    "If you have sincerely completed the material and the assignments of last two sections, you have gained sufficient knowledge to solve real life supervised Machine Learning problems. You can now go explore the world of competitive machine learning on Kaggle.com."
   ]
  }
 ],
 "metadata": {
  "accelerator": "GPU",
  "colab": {
   "collapsed_sections": [],
   "name": "Copy of assignment 4",
   "provenance": [],
   "version": "0.3.2"
  },
  "kernelspec": {
   "display_name": "Python 3",
   "language": "python",
   "name": "python3"
  },
  "language_info": {
   "codemirror_mode": {
    "name": "ipython",
    "version": 3
   },
   "file_extension": ".py",
   "mimetype": "text/x-python",
   "name": "python",
   "nbconvert_exporter": "python",
   "pygments_lexer": "ipython3",
   "version": "3.6.8"
  }
 },
 "nbformat": 4,
 "nbformat_minor": 1
}
